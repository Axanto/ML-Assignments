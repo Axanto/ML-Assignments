{
 "cells": [
  {
   "cell_type": "code",
   "execution_count": 2,
   "metadata": {},
   "outputs": [
    {
     "ename": "UnpicklingError",
     "evalue": "Failed to interpret file 'samples.txt' as a pickle",
     "output_type": "error",
     "traceback": [
      "\u001b[1;31m---------------------------------------------------------------------------\u001b[0m",
      "\u001b[1;31mUnpicklingError\u001b[0m                           Traceback (most recent call last)",
      "File \u001b[1;32mc:\\Users\\hghar\\anaconda3\\Lib\\site-packages\\numpy\\lib\\npyio.py:441\u001b[0m, in \u001b[0;36mload\u001b[1;34m(file, mmap_mode, allow_pickle, fix_imports, encoding, max_header_size)\u001b[0m\n\u001b[0;32m    440\u001b[0m \u001b[39mtry\u001b[39;00m:\n\u001b[1;32m--> 441\u001b[0m     \u001b[39mreturn\u001b[39;00m pickle\u001b[39m.\u001b[39mload(fid, \u001b[39m*\u001b[39m\u001b[39m*\u001b[39mpickle_kwargs)\n\u001b[0;32m    442\u001b[0m \u001b[39mexcept\u001b[39;00m \u001b[39mException\u001b[39;00m \u001b[39mas\u001b[39;00m e:\n",
      "\u001b[1;31mUnpicklingError\u001b[0m: invalid load key, '-'.",
      "\nThe above exception was the direct cause of the following exception:\n",
      "\u001b[1;31mUnpicklingError\u001b[0m                           Traceback (most recent call last)",
      "Cell \u001b[1;32mIn[2], line 41\u001b[0m\n\u001b[0;32m     38\u001b[0m     \u001b[39mprint\u001b[39m(\u001b[39m\"\u001b[39m\u001b[39mw0:\u001b[39m\u001b[39m\"\u001b[39m,w0)\n\u001b[0;32m     39\u001b[0m     plt\u001b[39m.\u001b[39mplot(x_axis,g(x_axis),color\u001b[39m=\u001b[39m\u001b[39m'\u001b[39m\u001b[39mred\u001b[39m\u001b[39m'\u001b[39m)\n\u001b[1;32m---> 41\u001b[0m linear_regression(\u001b[39m'\u001b[39m\u001b[39msamples.txt\u001b[39m\u001b[39m'\u001b[39m)\n",
      "Cell \u001b[1;32mIn[2], line 6\u001b[0m, in \u001b[0;36mlinear_regression\u001b[1;34m(x)\u001b[0m\n\u001b[0;32m      4\u001b[0m \u001b[39mdef\u001b[39;00m \u001b[39mlinear_regression\u001b[39m(x):\n\u001b[0;32m      5\u001b[0m     \u001b[39m# Importing data\u001b[39;00m\n\u001b[1;32m----> 6\u001b[0m     data \u001b[39m=\u001b[39m np\u001b[39m.\u001b[39mload(x, allow_pickle\u001b[39m=\u001b[39m\u001b[39mTrue\u001b[39;00m) \u001b[39m# 100x2 \u001b[39;00m\n\u001b[0;32m      7\u001b[0m     x \u001b[39m=\u001b[39m data[:,\u001b[39m0\u001b[39m] \u001b[39m# Assign column0 as x\u001b[39;00m\n\u001b[0;32m      8\u001b[0m     r \u001b[39m=\u001b[39m data[:,\u001b[39m1\u001b[39m] \u001b[39m# Assign column1 as r\u001b[39;00m\n",
      "File \u001b[1;32mc:\\Users\\hghar\\anaconda3\\Lib\\site-packages\\numpy\\lib\\npyio.py:443\u001b[0m, in \u001b[0;36mload\u001b[1;34m(file, mmap_mode, allow_pickle, fix_imports, encoding, max_header_size)\u001b[0m\n\u001b[0;32m    441\u001b[0m     \u001b[39mreturn\u001b[39;00m pickle\u001b[39m.\u001b[39mload(fid, \u001b[39m*\u001b[39m\u001b[39m*\u001b[39mpickle_kwargs)\n\u001b[0;32m    442\u001b[0m \u001b[39mexcept\u001b[39;00m \u001b[39mException\u001b[39;00m \u001b[39mas\u001b[39;00m e:\n\u001b[1;32m--> 443\u001b[0m     \u001b[39mraise\u001b[39;00m pickle\u001b[39m.\u001b[39mUnpicklingError(\n\u001b[0;32m    444\u001b[0m         \u001b[39mf\u001b[39m\u001b[39m\"\u001b[39m\u001b[39mFailed to interpret file \u001b[39m\u001b[39m{\u001b[39;00mfile\u001b[39m!r}\u001b[39;00m\u001b[39m as a pickle\u001b[39m\u001b[39m\"\u001b[39m) \u001b[39mfrom\u001b[39;00m \u001b[39me\u001b[39;00m\n",
      "\u001b[1;31mUnpicklingError\u001b[0m: Failed to interpret file 'samples.txt' as a pickle"
     ]
    }
   ],
   "source": [
    "import numpy as np\n",
    "import matplotlib.pyplot as plt\n",
    "\n",
    "def linear_regression(x):\n",
    "    # Importing data\n",
    "    data = np.load(x, allow_pickle=True) # 100x2 \n",
    "    x = data[:,0] # Assign column0 as x\n",
    "    r = data[:,1] # Assign column1 as r\n",
    "\n",
    "    plt.scatter(x,r) # Plotting input data as scatter\n",
    "    plt.xlabel(\"x\")\n",
    "    plt.ylabel(\"r\")\n",
    "\n",
    "    a,b,c,d,e,f = 0,0,0,0,0,0\n",
    "    N = len(x) # len(x) = len(r) = N\n",
    "\n",
    "    # Calculating w1 from linear regression formula\n",
    "    for i in range(0,N):\n",
    "        a = a + x[i]*r[i]\n",
    "        b = b + N*(1/N*x[i])*(1/N*r[i])\n",
    "        c = c + x[i]**2\n",
    "        d = d + N*((x[i]*1/N)**2)\n",
    "    w1 = (a-b)/(c-d)\n",
    "\n",
    "    # Calculating w0 from linear regression formula\n",
    "    for i in range(0,N):\n",
    "        e = e + (1/N)*r[i]\n",
    "        f = f + (1/N*x[i])**2\n",
    "    w0 = e - w1*f\n",
    "\n",
    "    # Defining linear model from learned w1 and w0 constants\n",
    "    def g(x):\n",
    "        y = w1*x+w0\n",
    "        return y\n",
    "    x_axis = range(-3,4)\n",
    "\n",
    "    print(\"w1:\",w1)\n",
    "    print(\"w0:\",w0)\n",
    "    plt.plot(x_axis,g(x_axis),color='red')\n",
    "    \n",
    "linear_regression('samples.txt')"
   ]
  },
  {
   "cell_type": "code",
   "execution_count": null,
   "metadata": {},
   "outputs": [],
   "source": []
  }
 ],
 "metadata": {
  "kernelspec": {
   "display_name": "MLE",
   "language": "python",
   "name": "python3"
  },
  "language_info": {
   "codemirror_mode": {
    "name": "ipython",
    "version": 3
   },
   "file_extension": ".py",
   "mimetype": "text/x-python",
   "name": "python",
   "nbconvert_exporter": "python",
   "pygments_lexer": "ipython3",
   "version": "3.11.5"
  },
  "orig_nbformat": 4
 },
 "nbformat": 4,
 "nbformat_minor": 2
}
