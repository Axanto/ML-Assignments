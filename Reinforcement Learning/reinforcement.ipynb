{
 "cells": [
  {
   "cell_type": "code",
   "execution_count": 1,
   "id": "dec92ff6-a259-4e5d-93ff-a62dc8a1e17c",
   "metadata": {
    "tags": []
   },
   "outputs": [],
   "source": [
    "import numpy as np"
   ]
  },
  {
   "cell_type": "code",
   "execution_count": 2,
   "id": "fb00c706-c3bc-4173-b072-888f7027f011",
   "metadata": {
    "tags": []
   },
   "outputs": [
    {
     "name": "stdout",
     "output_type": "stream",
     "text": [
      "[[  0   0   1]\n",
      " [  0 -10   0]\n",
      " [  0   0   0]]\n"
     ]
    }
   ],
   "source": [
    "# Creating environment\n",
    "env_rows = 3\n",
    "env_columns = 3\n",
    "\n",
    "start_state = (2, 0)\n",
    "goal_state = (0, 2)\n",
    "\n",
    "# Create a 3D numpy array to hold the current Q-values for each state and action pair: Q(s, a) \n",
    "q_values = np.zeros((env_rows, env_columns, 4))\n",
    "\n",
    "# Define actions\n",
    "# Numeric action codes: 0 = up, 1 = right, 2 = down, 3 = left\n",
    "actions = ['up', 'right', 'down', 'left']\n",
    "\n",
    "# States were defined as rewards\n",
    "rewards = np.full((env_rows, env_columns), 0)\n",
    "rewards[0, 2] = 1.\n",
    "rewards[1, 1] = -10.\n",
    "print(rewards)\n",
    "\n",
    "np.random.seed(np.random.randint(10))"
   ]
  },
  {
   "cell_type": "code",
   "execution_count": 3,
   "id": "621c76aa-5bdd-46de-8820-1e227949d838",
   "metadata": {
    "tags": []
   },
   "outputs": [],
   "source": [
    "# Define a function that determines if the specified location is a terminal state\n",
    "def is_terminal_state(current_row_index, current_column_index):\n",
    "    return rewards[current_row_index, current_column_index] != 0.\n",
    "\n",
    "def get_next_action(start_state_x, start_state_y, epsilon): #epsilon-greedy\n",
    "    if np.random.random() < epsilon: #Explore\n",
    "        return np.random.randint(4) \n",
    "    else:  # Otherwise, choose a random action, exploit\n",
    "        return np.argmax(q_values[start_state_x, start_state_y]) \n",
    "    \n",
    "\n",
    "def get_next_location(current_row_index, current_column_index, action_index):\n",
    "    new_row_index = current_row_index\n",
    "    new_column_index = current_column_index\n",
    "    if actions[action_index] == 'up' and current_row_index > 0:\n",
    "        new_row_index -= 1\n",
    "    elif actions[action_index] == 'right' and current_column_index < env_columns - 1:\n",
    "        new_column_index += 1\n",
    "    elif actions[action_index] == 'down' and current_row_index < env_rows - 1:\n",
    "        new_row_index += 1\n",
    "    elif actions[action_index] == 'left' and current_column_index > 0:\n",
    "        new_column_index -= 1\n",
    "    return new_row_index, new_column_index\n",
    "\n",
    "def get_shortest_path(start_row_index, start_column_index):\n",
    "    current_row_index, current_column_index = start_row_index, start_column_index\n",
    "    shortest_path = []\n",
    "    shortest_path.append([current_row_index, current_column_index])\n",
    "    while not is_terminal_state(current_row_index, current_column_index):\n",
    "        action_index = get_next_action(current_row_index, current_column_index, epsilon)\n",
    "        current_row_index, current_column_index = get_next_location(current_row_index, current_column_index, action_index)\n",
    "        shortest_path.append([current_row_index, current_column_index])\n",
    "    return shortest_path\n",
    "\n"
   ]
  },
  {
   "cell_type": "code",
   "execution_count": 4,
   "id": "a0871c2a-4843-42b3-b9ab-83abe063c5b2",
   "metadata": {
    "tags": []
   },
   "outputs": [
    {
     "name": "stdout",
     "output_type": "stream",
     "text": [
      "Training complete!\n",
      "Shortest Path: [[2, 0], [1, 0], [0, 0], [0, 1], [0, 2]]\n"
     ]
    }
   ],
   "source": [
    "epsilon = 0.1\n",
    "discount_factor = 0.9\n",
    "learning_rate = 0.5\n",
    "num_episodes = 1000\n",
    "\n",
    "\n",
    "# Run through 1000 training episodes\n",
    "for episode in range(num_episodes):\n",
    "    \n",
    "    row_index, column_index = start_state[0], start_state[1]\n",
    "    # Continue taking actions until reaching a terminal state\n",
    "    while not is_terminal_state(row_index, column_index):\n",
    "        action_index = get_next_action(row_index, column_index, epsilon)\n",
    "        old_row_index, old_column_index = row_index, column_index\n",
    "        row_index, column_index = get_next_location(row_index, column_index, action_index)\n",
    "\n",
    "        reward = rewards[row_index, column_index]\n",
    "        old_q_value = q_values[old_row_index, old_column_index, action_index]\n",
    "        temporal_difference = reward + (discount_factor * np.max(q_values[row_index, column_index])) - old_q_value\n",
    "\n",
    "        new_q_value = old_q_value + (learning_rate * temporal_difference)\n",
    "        q_values[old_row_index, old_column_index, action_index] = new_q_value\n",
    "\n",
    "        # Check if the current state is a terminal state\n",
    "        if is_terminal_state(row_index, column_index):\n",
    "            break  # Exit the loop if a terminal state is reached\n",
    "\n",
    "print('Training complete!')\n",
    "print('Shortest Path:', get_shortest_path(2,0))\n"
   ]
  },
  {
   "cell_type": "code",
   "execution_count": null,
   "id": "cb193114-6737-4cf3-b92f-9c4ba239c0d9",
   "metadata": {},
   "outputs": [],
   "source": []
  },
  {
   "cell_type": "code",
   "execution_count": null,
   "id": "d609d8ed-d7ee-4cd4-839a-d7e8997992fa",
   "metadata": {},
   "outputs": [],
   "source": []
  }
 ],
 "metadata": {
  "kernelspec": {
   "display_name": "Python 3 (ipykernel)",
   "language": "python",
   "name": "python3"
  },
  "language_info": {
   "codemirror_mode": {
    "name": "ipython",
    "version": 3
   },
   "file_extension": ".py",
   "mimetype": "text/x-python",
   "name": "python",
   "nbconvert_exporter": "python",
   "pygments_lexer": "ipython3",
   "version": "3.11.5"
  }
 },
 "nbformat": 4,
 "nbformat_minor": 5
}
